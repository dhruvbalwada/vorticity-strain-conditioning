{
 "cells": [
  {
   "cell_type": "code",
   "execution_count": 1,
   "metadata": {},
   "outputs": [],
   "source": [
    "import xrft\n",
    "import numpy as np\n",
    "import xarray as xr\n",
    "from xmitgcm import open_mdsdataset\n",
    "from matplotlib import pyplot as plt\n",
    "%matplotlib inline\n",
    "from xgcm import Grid\n",
    "from matplotlib import colors, ticker, cm\n",
    "from xhistogram.xarray import histogram \n",
    "import pandas as pd\n",
    "from matplotlib import colors as cols"
   ]
  },
  {
   "cell_type": "code",
   "execution_count": 2,
   "metadata": {},
   "outputs": [],
   "source": [
    "import matplotlib \n",
    "font = {'family' : 'sans-serif',\n",
    "        'size'   : 12}\n",
    "\n",
    "matplotlib.rc('font', **font)"
   ]
  },
  {
   "cell_type": "code",
   "execution_count": 3,
   "metadata": {},
   "outputs": [],
   "source": [
    "npick = 24*1 # pick up npick file\n",
    "dt_out = 90\n",
    "T1 =  196560 # 3months + 1 day\n",
    "T2months = 291060 # 4.5 months\n",
    "\n",
    "iters = range(T1, T2months, dt_out*npick)\n",
    "#iters = T2months\n",
    "\n",
    "data_dir = '/swot/SUM04/dbalwada/channel_beta/01km/tracer_exp2/' \n",
    "\n",
    "ds = open_mdsdataset(data_dir, delta_t=40, iters= iters, \n",
    "                            prefix=['U','V','W','PTRACER01','tracer1_diag']\n",
    "                     ,ignore_unknown_vars=True, geometry='cartesian')"
   ]
  },
  {
   "cell_type": "code",
   "execution_count": 4,
   "metadata": {},
   "outputs": [],
   "source": [
    "horispace = 1e3\n",
    "time_index = 0\n",
    "depth = -50\n",
    "f =  -0.83e-4\n",
    "X = ds.XC/1e3\n",
    "Y = ds.YC/1e3\n",
    "daytime = 86400\n",
    "boxarea = horispace**2\n",
    "ybound = 5e5"
   ]
  },
  {
   "cell_type": "code",
   "execution_count": 5,
   "metadata": {},
   "outputs": [],
   "source": [
    "grid = Grid(ds, periodic='X')"
   ]
  },
  {
   "cell_type": "code",
   "execution_count": 6,
   "metadata": {},
   "outputs": [],
   "source": [
    "hab01L = xr.open_dataarray('/home/qx344/data/hab01-longtime')\n",
    "hab05L = xr.open_dataarray('/home/qx344/data/hab05-longtime')\n",
    "vortold = np.linspace(-7, 7, 240)\n",
    "strainold = np.linspace(.5e-3, 7, 240)\n",
    "binbox01old =  (vortold[1]-vortold[0])*(strainold[1]-strainold[0])"
   ]
  },
  {
   "cell_type": "code",
   "execution_count": 7,
   "metadata": {},
   "outputs": [],
   "source": [
    "vort_1d = grid.interp(grid.interp((grid.diff(ds.V, 'X') - grid.diff(ds.U, 'Y', boundary='extend')),\n",
    "                   'X'), 'Y', boundary='extend')/horispace\n",
    "\n",
    "strain_1d = ((grid.diff(ds.U, 'X') - grid.diff(ds.V, 'Y', boundary='extend'))**2 + \n",
    "          (grid.interp(grid.interp(grid.diff(ds.V, 'X') + grid.diff(ds.U, 'Y', boundary='extend'),\n",
    "                       'X'), 'Y', boundary='extend'))**2)**0.5/horispace"
   ]
  },
  {
   "cell_type": "code",
   "execution_count": 8,
   "metadata": {},
   "outputs": [],
   "source": [
    "vort_1d = vort_1d.sel(YC = slice(ybound,2e6-ybound)).isel(Z=0)\n",
    "strain_1d = strain_1d.sel(YC = slice(ybound,2e6-ybound)).isel(Z=0)"
   ]
  },
  {
   "cell_type": "code",
   "execution_count": 9,
   "metadata": {},
   "outputs": [],
   "source": [
    "vort_1d.load();\n",
    "strain_1d.load();"
   ]
  },
  {
   "cell_type": "code",
   "execution_count": 10,
   "metadata": {},
   "outputs": [],
   "source": [
    "#### vs jpdf\n",
    "\n",
    "vortband01 = np.linspace(-7, 7, 240)\n",
    "strainband01 = np.linspace(.5e-3, 7, 240)\n",
    "\n",
    "ybound = 5e5\n",
    "\n",
    "binbox01 =  (vortband01[1]-vortband01[0])*(strainband01[1]-strainband01[0])\n",
    "\n",
    "vort_1d = (vort_1d.sel(YC = slice(ybound,2e6-ybound))/f).rename('vort1_0')\n",
    "strain_1d = (abs(strain_1d.sel(YC = slice(ybound,2e6-ybound))/f)).rename('strain1_0')\n",
    "\n",
    "\n",
    "hist01 = histogram(vort_1d,strain_1d,dim = ['XC','YC'] , bins=[vortband01,strainband01])\n",
    "hist01.load();\n"
   ]
  },
  {
   "cell_type": "code",
   "execution_count": null,
   "metadata": {},
   "outputs": [],
   "source": []
  },
  {
   "cell_type": "code",
   "execution_count": 11,
   "metadata": {},
   "outputs": [],
   "source": [
    "diffusion = grid.interp(ds.DFrITr01, 'Z', boundary='extend')"
   ]
  },
  {
   "cell_type": "code",
   "execution_count": 12,
   "metadata": {},
   "outputs": [],
   "source": [
    "kppDif50 = diffusion.sel(Z=-50, method='nearest').sel(YC = slice(ybound,2e6-ybound)) \n",
    "kppDif50 = kppDif50.chunk({'XC': 2000, 'YC': 2000, 'time':40})\n",
    "kppDif50.load()\n",
    "\n",
    "hab01_Diff50 = histogram(vort_1d,strain_1d, weights = kppDif50, dim = ['XC','YC'] , \n",
    "                         bins=[vortband01,strainband01])\n",
    "hab01_Diff50.load();"
   ]
  },
  {
   "cell_type": "code",
   "execution_count": 13,
   "metadata": {},
   "outputs": [],
   "source": [
    "surfTracer = ds.PTRACER01\n",
    "\n",
    "sorfForce = (1-surfTracer).isel(Z=0).sel(YC = slice(ybound,2e6-ybound))/(72*60)\n",
    "\n",
    "\n",
    "hab01_1SF = histogram(vort_1d,strain_1d, weights = sorfForce, dim = ['XC','YC'] , bins=[vortband01,strainband01])\n",
    "hab01_1SF.load();"
   ]
  },
  {
   "cell_type": "code",
   "execution_count": 14,
   "metadata": {},
   "outputs": [],
   "source": [
    "hab01_Diff50_mean = hab01_Diff50.mean(dim='time')"
   ]
  },
  {
   "cell_type": "code",
   "execution_count": 15,
   "metadata": {},
   "outputs": [],
   "source": [
    "hab01_1SF_mean = hab01_1SF.mean(dim='time')"
   ]
  },
  {
   "cell_type": "code",
   "execution_count": null,
   "metadata": {},
   "outputs": [],
   "source": []
  }
 ],
 "metadata": {
  "kernelspec": {
   "display_name": "Python [conda env:mitgcm]",
   "language": "python",
   "name": "conda-env-mitgcm-py"
  },
  "language_info": {
   "codemirror_mode": {
    "name": "ipython",
    "version": 3
   },
   "file_extension": ".py",
   "mimetype": "text/x-python",
   "name": "python",
   "nbconvert_exporter": "python",
   "pygments_lexer": "ipython3",
   "version": "3.6.12"
  }
 },
 "nbformat": 4,
 "nbformat_minor": 2
}
