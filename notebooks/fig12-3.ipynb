{
 "cells": [
  {
   "cell_type": "code",
   "execution_count": 1,
   "metadata": {},
   "outputs": [],
   "source": [
    "import xrft\n",
    "import numpy as np\n",
    "import xarray as xr\n",
    "from xmitgcm import open_mdsdataset\n",
    "from matplotlib import pyplot as plt\n",
    "%matplotlib inline\n",
    "from xgcm import Grid\n",
    "from matplotlib import colors, ticker, cm\n",
    "from xhistogram.xarray import histogram \n",
    "import pandas as pd\n",
    "from matplotlib import colors as cols"
   ]
  },
  {
   "cell_type": "code",
   "execution_count": 2,
   "metadata": {},
   "outputs": [],
   "source": [
    "import matplotlib \n",
    "font = {'family' : 'sans-serif',\n",
    "        'size'   : 12}\n",
    "\n",
    "matplotlib.rc('font', **font)"
   ]
  },
  {
   "cell_type": "code",
   "execution_count": 3,
   "metadata": {},
   "outputs": [],
   "source": [
    "npick = 4*1 # num of files per day * ndays we want output = 4*1\n",
    "dt_out = 72 # output frequency/ dt = 21600/300\n",
    "T1 =  10394208 # 3months + 1 day\n",
    "T2months = 10406880 # 4.5 months\n",
    "\n",
    "iters = range(T1, T2months, dt_out*npick)\n",
    "\n",
    "data_dir = '/swot/SUM05/dbalwada/channel_beta/05km/tracer_exp1/' \n",
    "\n",
    "ds = open_mdsdataset(data_dir, delta_t=300, iters= iters, \n",
    "                            prefix=['U','V','W','PTRACER01','tracer1_diag']\n",
    "                     ,ignore_unknown_vars=True, geometry='cartesian')"
   ]
  },
  {
   "cell_type": "code",
   "execution_count": 4,
   "metadata": {},
   "outputs": [],
   "source": [
    "hab01L = xr.open_dataarray('/home/qx344/data/hab01-longtime')\n",
    "hab05L = xr.open_dataarray('/home/qx344/data/hab05-longtime')\n",
    "vortold = np.linspace(-7, 7, 240)\n",
    "strainold = np.linspace(.5e-3, 7, 240)\n",
    "binbox01old =  (vortold[1]-vortold[0])*(strainold[1]-strainold[0])"
   ]
  },
  {
   "cell_type": "code",
   "execution_count": 5,
   "metadata": {},
   "outputs": [],
   "source": [
    "horispace = 5e3\n",
    "time_index = 0\n",
    "f =  -0.83e-4\n",
    "X = ds.XC/1e3\n",
    "Y = ds.YC/1e3\n",
    "daytime = 86400\n",
    "ybound = 5e5"
   ]
  },
  {
   "cell_type": "code",
   "execution_count": 6,
   "metadata": {},
   "outputs": [],
   "source": [
    "grid = Grid(ds, periodic='X')"
   ]
  },
  {
   "cell_type": "code",
   "execution_count": 8,
   "metadata": {},
   "outputs": [],
   "source": [
    "vort_1d = grid.interp(grid.interp((grid.diff(ds.V, 'X') - grid.diff(ds.U, 'Y', boundary='extend')),\n",
    "                   'X'), 'Y', boundary='extend')/horispace\n",
    "\n",
    "strain_1d = ((grid.diff(ds.U, 'X') - grid.diff(ds.V, 'Y', boundary='extend'))**2 + \n",
    "          (grid.interp(grid.interp(grid.diff(ds.V, 'X') + grid.diff(ds.U, 'Y', boundary='extend'),\n",
    "                       'X'), 'Y', boundary='extend'))**2)**0.5/horispace"
   ]
  },
  {
   "cell_type": "code",
   "execution_count": 9,
   "metadata": {},
   "outputs": [],
   "source": [
    "vort_1d = vort_1d.sel(YC = slice(ybound,2e6-ybound)).isel(Z=0)\n",
    "strain_1d = strain_1d.sel(YC = slice(ybound,2e6-ybound)).isel(Z=0)\n",
    "vort_1d = (vort_1d/f).rename('vort1_0')\n",
    "strain_1d = (abs(strain_1d/f)).rename('strain1_0')"
   ]
  },
  {
   "cell_type": "code",
   "execution_count": 10,
   "metadata": {},
   "outputs": [],
   "source": [
    "vort_1d.load();\n",
    "strain_1d.load();"
   ]
  },
  {
   "cell_type": "code",
   "execution_count": null,
   "metadata": {},
   "outputs": [],
   "source": []
  },
  {
   "cell_type": "code",
   "execution_count": 11,
   "metadata": {},
   "outputs": [],
   "source": [
    "diffusion = grid.interp(ds.DFrITr01, 'Z', boundary='extend')"
   ]
  },
  {
   "cell_type": "code",
   "execution_count": 12,
   "metadata": {},
   "outputs": [],
   "source": [
    "vortband01 = np.linspace(-7, 7, 240)\n",
    "strainband01 = np.linspace(.5e-3, 7, 240)\n",
    "\n",
    "binbox01 =  (vortband01[1]-vortband01[0])*(strainband01[1]-strainband01[0])"
   ]
  },
  {
   "cell_type": "code",
   "execution_count": 13,
   "metadata": {},
   "outputs": [],
   "source": [
    "mask_c = xr.where(hab01L.vort1_0_bin>hab01L.strain1_0_bin,1,0)\n",
    "mask_ac = xr.where(-hab01L.vort1_0_bin>hab01L.strain1_0_bin,1,0)\n",
    "mask_f = xr.where(abs(hab01L.vort1_0_bin)<=hab01L.strain1_0_bin,1,0)"
   ]
  },
  {
   "cell_type": "code",
   "execution_count": 14,
   "metadata": {},
   "outputs": [
    {
     "name": "stdout",
     "output_type": "stream",
     "text": [
      "0\n",
      "1\n",
      "2\n",
      "3\n",
      "4\n",
      "5\n",
      "6\n",
      "7\n",
      "8\n",
      "9\n",
      "10\n",
      "11\n",
      "12\n",
      "13\n",
      "14\n",
      "15\n",
      "16\n",
      "17\n",
      "18\n",
      "19\n",
      "20\n",
      "21\n",
      "22\n",
      "23\n",
      "24\n",
      "25\n",
      "26\n",
      "27\n",
      "28\n",
      "29\n",
      "30\n",
      "31\n",
      "32\n",
      "33\n",
      "34\n",
      "35\n",
      "36\n",
      "37\n",
      "38\n",
      "39\n",
      "40\n",
      "41\n",
      "42\n",
      "43\n",
      "44\n",
      "45\n",
      "46\n",
      "47\n",
      "48\n",
      "49\n",
      "50\n",
      "51\n",
      "52\n",
      "53\n",
      "54\n",
      "55\n",
      "56\n",
      "57\n",
      "58\n",
      "59\n",
      "60\n",
      "61\n",
      "62\n",
      "63\n",
      "64\n",
      "65\n",
      "66\n",
      "67\n",
      "68\n",
      "69\n",
      "70\n",
      "71\n",
      "72\n",
      "73\n",
      "74\n",
      "75\n"
     ]
    }
   ],
   "source": [
    "DifZup = np.zeros([76])\n",
    "DifZmid = np.zeros([76])\n",
    "DifZac = np.zeros([76])\n",
    "DifZc = np.zeros([76])\n",
    "for depthInd in range(76):\n",
    "    diffusionDepth = grid.interp(ds.DFrITr01, 'Z', boundary='extend').isel(Z=depthInd).sel(YC = slice(ybound,2e6-ybound)).rename('diff01')\n",
    "    diffusionDepth.load()\n",
    "\n",
    "    hab01_Diff = histogram(vort_1d, strain_1d, weights = diffusionDepth, dim = ['XC','YC'] , bins=[vortband01,strainband01])\n",
    "    hab01_Difftm = hab01_Diff.mean(dim='time')\n",
    "    hab01_Difftm.load()\n",
    "    DifZac[depthInd] = (hab01_Difftm*mask_ac).sum().values[()]/(1000**2)\n",
    "    DifZc[depthInd] = (hab01_Difftm*mask_c).sum().values[()]/(1000**2)\n",
    "    DifZmid[depthInd] = (hab01_Difftm*mask_f).sum().values[()]/(1000**2)\n",
    "    print(depthInd)"
   ]
  },
  {
   "cell_type": "code",
   "execution_count": 15,
   "metadata": {},
   "outputs": [
    {
     "data": {
      "text/plain": [
       "(-20.0, 20.0)"
      ]
     },
     "execution_count": 15,
     "metadata": {},
     "output_type": "execute_result"
    },
    {
     "data": {
      "image/png": "[encoded data removed]",
      "text/plain": [
       "<Figure size 432x288 with 1 Axes>"
      ]
     },
     "metadata": {
      "needs_background": "light"
     },
     "output_type": "display_data"
    }
   ],
   "source": [
    "plt.plot(DifZup, ds.Z.values, linewidth = 5)\n",
    "plt.plot(DifZac, ds.Z.values, linewidth = 5,color = 'r')\n",
    "plt.plot(DifZc, ds.Z.values, linewidth = 5,color ='g')\n",
    "plt.plot(DifZmid, ds.Z.values, linewidth = 5,color ='b')\n",
    "\n",
    "plt.legend(['sf','ac','c','lf'])\n",
    "plt.ylim(-400,0)\n",
    "plt.xlim(-20,20)"
   ]
  },
  {
   "cell_type": "code",
   "execution_count": 16,
   "metadata": {},
   "outputs": [],
   "source": [
    "surfTracer = ds.PTRACER01\n",
    "#surfTracer_pos = xr.where((1-surfTracer).isel(Z=0)<0, 0, (1-surfTracer).isel(Z=0) )\n",
    "#sorfForce = surfTracer_pos.sel(YC = slice(ybound,2e6-ybound))/(72*60)\n",
    "sorfForce = (1-surfTracer).isel(Z=0).sel(YC = slice(ybound,2e6-ybound))/(72*60)\n",
    "\n",
    "#sorfForce = sorfForce.chunk({'XC': 2000, 'YC': 2000, 'time':40})\n",
    "\n",
    "hab05_1SF = histogram(vort_1d,strain_1d, weights = sorfForce, dim = ['XC','YC'] , bins=[vortband01,strainband01])\n",
    "hab05_1SF.load();"
   ]
  },
  {
   "cell_type": "code",
   "execution_count": 17,
   "metadata": {},
   "outputs": [],
   "source": [
    "SFac = (hab05_1SF.mean(dim='time')*mask_ac).sum().values[()]\n",
    "SFc= (hab05_1SF.mean(dim='time')*mask_c).sum().values[()]\n",
    "SFmid = (hab05_1SF.mean(dim='time')*mask_f).sum().values[()]"
   ]
  },
  {
   "cell_type": "code",
   "execution_count": 18,
   "metadata": {},
   "outputs": [
    {
     "name": "stdout",
     "output_type": "stream",
     "text": [
      "0.25681221263547394 0.08150786053795972 0.5292262059893121\n"
     ]
    }
   ],
   "source": [
    "print(SFac,SFc,SFmid)"
   ]
  },
  {
   "cell_type": "code",
   "execution_count": null,
   "metadata": {},
   "outputs": [],
   "source": []
  }
 ],
 "metadata": {
  "kernelspec": {
   "display_name": "Python [conda env:mitgcm]",
   "language": "python",
   "name": "conda-env-mitgcm-py"
  },
  "language_info": {
   "codemirror_mode": {
    "name": "ipython",
    "version": 3
   },
   "file_extension": ".py",
   "mimetype": "text/x-python",
   "name": "python",
   "nbconvert_exporter": "python",
   "pygments_lexer": "ipython3",
   "version": "3.6.12"
  }
 },
 "nbformat": 4,
 "nbformat_minor": 2
}
